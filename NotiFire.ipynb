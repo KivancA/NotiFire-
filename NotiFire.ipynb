{
  "cells": [
    {
      "cell_type": "markdown",
      "metadata": {
        "id": "dVVi9DCN9J-V"
      },
      "source": [
        "Let us start by importing the libraries:"
      ]
    },
    {
      "cell_type": "code",
      "execution_count": null,
      "metadata": {
        "id": "x9-sp2Xf9J-W"
      },
      "outputs": [],
      "source": [
        "import os as os\n",
        "import torch\n",
        "import torchvision\n",
        "from torch.utils.data import random_split\n",
        "import torchvision.models as models\n",
        "import torch.nn as nn\n",
        "import torch.nn.functional as F\n",
        "\n",
        "\n",
        "from google.colab import drive\n",
        "drive.mount('/content/drive')"
      ]
    },
    {
      "cell_type": "markdown",
      "metadata": {
        "id": "VsQsvZTz9J-X"
      },
      "source": [
        "Let us see the classes present in the dataset:"
      ]
    },
    {
      "cell_type": "code",
      "execution_count": null,
      "metadata": {
        "id": "fg8hJlXf9J-X"
      },
      "outputs": [],
      "source": [
        "\n",
        "path  = '/content/drive/My Drive/veriseti/'\n",
        "\n",
        "classes = os.listdir(path)\n",
        "print(classes)"
      ]
    },
    {
      "cell_type": "code",
      "execution_count": null,
      "metadata": {
        "id": "lrJkrxXy9J-Y"
      },
      "outputs": [],
      "source": [
        "len(classes)"
      ]
    },
    {
      "cell_type": "markdown",
      "metadata": {
        "id": "I69YSGr69J-Y"
      },
      "source": [
        "## Transformations:"
      ]
    },
    {
      "cell_type": "markdown",
      "metadata": {
        "id": "G2SowVF-9J-Z"
      },
      "source": [
        "Now, let's apply transformations to the dataset and import it for use."
      ]
    },
    {
      "cell_type": "code",
      "execution_count": null,
      "metadata": {
        "id": "Qt0eD5ui9J-Z"
      },
      "outputs": [],
      "source": [
        "from torchvision.datasets import ImageFolder\n",
        "import torchvision.transforms as transforms\n",
        "\n",
        "transformations = transforms.Compose([transforms.Resize((256, 256)), transforms.ToTensor()])\n",
        "\n",
        "dataset = ImageFolder(path, transform = transformations)"
      ]
    },
    {
      "cell_type": "markdown",
      "metadata": {
        "id": "299RIvix9J-Z"
      },
      "source": [
        "Let's create a helper function to see the image and its corresponding label:"
      ]
    },
    {
      "cell_type": "code",
      "execution_count": null,
      "metadata": {
        "id": "78llEvdf9J-Z"
      },
      "outputs": [],
      "source": [
        "import matplotlib.pyplot as plt\n",
        "%matplotlib inline\n",
        "\n",
        "def show_sample(img, label):\n",
        "    print(\"Label:\", dataset.classes[label], \"(Class No: \"+ str(label) + \")\")\n",
        "    plt.imshow(img.permute(1, 2, 0))"
      ]
    },
    {
      "cell_type": "code",
      "execution_count": null,
      "metadata": {
        "id": "o_iCZrX79J-a"
      },
      "outputs": [],
      "source": [
        "img, label = dataset[500]\n",
        "show_sample(img, label)"
      ]
    },
    {
      "cell_type": "markdown",
      "metadata": {
        "id": "q6hLe3Xx9J-a"
      },
      "source": [
        "# Loading and Splitting Data:"
      ]
    },
    {
      "cell_type": "code",
      "execution_count": null,
      "metadata": {
        "id": "S5ygX-SS9J-a"
      },
      "outputs": [],
      "source": [
        "random_seed = 42\n",
        "torch.manual_seed(random_seed)"
      ]
    },
    {
      "cell_type": "markdown",
      "metadata": {
        "id": "71XaabL39J-a"
      },
      "source": [
        "We'll split the dataset into training, validation and test sets:"
      ]
    },
    {
      "cell_type": "code",
      "execution_count": null,
      "metadata": {
        "id": "lP-YcQze9J-a"
      },
      "outputs": [],
      "source": [
        "len(dataset)"
      ]
    },
    {
      "cell_type": "code",
      "execution_count": null,
      "metadata": {
        "id": "MXzcAQOh9J-b"
      },
      "outputs": [],
      "source": [
        "train_ds, val_ds, test_ds = random_split(dataset, [600, 200, 309])\n",
        "len(train_ds), len(val_ds), len(test_ds)"
      ]
    },
    {
      "cell_type": "code",
      "execution_count": null,
      "metadata": {
        "id": "m0lt3k6M9J-b"
      },
      "outputs": [],
      "source": [
        "from torch.utils.data.dataloader import DataLoader\n",
        "batch_size = 25"
      ]
    },
    {
      "cell_type": "markdown",
      "metadata": {
        "id": "l9kbk_mV9J-b"
      },
      "source": [
        "Now, we'll create training and validation dataloaders using `DataLoader`."
      ]
    },
    {
      "cell_type": "code",
      "execution_count": null,
      "metadata": {
        "id": "JWkw9hlY9J-b"
      },
      "outputs": [],
      "source": [
        "train_dl = DataLoader(train_ds, batch_size, shuffle = True, num_workers = 4, pin_memory = True)\n",
        "val_dl = DataLoader(val_ds, batch_size*2, num_workers = 4, pin_memory = True)"
      ]
    },
    {
      "cell_type": "markdown",
      "metadata": {
        "id": "TF18eNET9J-b"
      },
      "source": [
        "This is a helper function to visualize batches:"
      ]
    },
    {
      "cell_type": "code",
      "execution_count": null,
      "metadata": {
        "id": "YXJvh9Id9J-b"
      },
      "outputs": [],
      "source": [
        "from torchvision.utils import make_grid\n",
        "\n",
        "def show_batch(dl):\n",
        "    for images, labels in dl:\n",
        "        fig, ax = plt.subplots(figsize=(12, 6))\n",
        "        ax.set_xticks([])\n",
        "        ax.set_yticks([])\n",
        "        ax.imshow(make_grid(images, nrow = 16).permute(1, 2, 0))\n",
        "        break"
      ]
    },
    {
      "cell_type": "code",
      "execution_count": null,
      "metadata": {
        "id": "2HIX8l5c9J-c"
      },
      "outputs": [],
      "source": [
        "# show_batch(train_dl)"
      ]
    },
    {
      "cell_type": "code",
      "execution_count": null,
      "metadata": {
        "id": "lydtFo-k9J-c"
      },
      "outputs": [],
      "source": [
        "# show_batch(val_dl)"
      ]
    },
    {
      "cell_type": "markdown",
      "metadata": {
        "id": "cz7fEIq59J-c"
      },
      "source": [
        "# Model Base:"
      ]
    },
    {
      "cell_type": "markdown",
      "metadata": {
        "id": "ZktPtIAz9J-c"
      },
      "source": [
        "Let's create the model base:"
      ]
    },
    {
      "cell_type": "code",
      "execution_count": null,
      "metadata": {
        "id": "4G3GDxR89J-c"
      },
      "outputs": [],
      "source": [
        "def accuracy(outputs, labels):\n",
        "    _, preds = torch.max(outputs, dim=1)\n",
        "    return torch.tensor(torch.sum(preds == labels).item() / len(preds))\n",
        "\n",
        "class ImageClassificationBase(nn.Module):\n",
        "    def training_step(self, batch):\n",
        "        images, labels = batch\n",
        "        out = self(images)                  # Generate predictions\n",
        "        loss = F.cross_entropy(out, labels) # Calculate loss\n",
        "        return loss\n",
        "\n",
        "    def validation_step(self, batch):\n",
        "        images, labels = batch\n",
        "        out = self(images)                    # Generate predictions\n",
        "        loss = F.cross_entropy(out, labels)   # Calculate loss\n",
        "        acc = accuracy(out, labels)           # Calculate accuracy\n",
        "        return {'val_loss': loss.detach(), 'val_acc': acc}\n",
        "\n",
        "    def validation_epoch_end(self, outputs):\n",
        "        batch_losses = [x['val_loss'] for x in outputs]\n",
        "        epoch_loss = torch.stack(batch_losses).mean()   # Combine losses\n",
        "        batch_accs = [x['val_acc'] for x in outputs]\n",
        "        epoch_acc = torch.stack(batch_accs).mean()      # Combine accuracies\n",
        "        return {'val_loss': epoch_loss.item(), 'val_acc': epoch_acc.item()}\n",
        "\n",
        "    def epoch_end(self, epoch, result):\n",
        "        print(\"Epoch {}: train_loss: {:.4f}, val_loss: {:.4f}, val_acc: {:.4f}\".format(\n",
        "            epoch+1, result['train_loss'], result['val_loss'], result['val_acc']))"
      ]
    },
    {
      "cell_type": "markdown",
      "metadata": {
        "id": "sigDCaPv9J-d"
      },
      "source": [
        "We'll be using ResNet18 for classifying images:"
      ]
    },
    {
      "cell_type": "code",
      "execution_count": null,
      "metadata": {
        "id": "kO7_TtAS9J-d"
      },
      "outputs": [],
      "source": [
        "class ResNet(ImageClassificationBase):\n",
        "    def __init__(self):\n",
        "        super().__init__()\n",
        "        # Use a pretrained model\n",
        "        self.network = models.resnet18(pretrained=True)\n",
        "        # Replace last layer\n",
        "        num_ftrs = self.network.fc.in_features\n",
        "        self.network.fc = nn.Linear(num_ftrs, len(dataset.classes))\n",
        "\n",
        "    def forward(self, xb):\n",
        "        return torch.sigmoid(self.network(xb))\n",
        "\n",
        "model = ResNet()"
      ]
    },
    {
      "cell_type": "markdown",
      "metadata": {
        "id": "WLPyMObo9J-d"
      },
      "source": [
        "## Porting to GPU:"
      ]
    },
    {
      "cell_type": "markdown",
      "metadata": {
        "id": "AYDuZKHJ9J-d"
      },
      "source": [
        "GPUs tend to perform faster calculations than CPU. Let's take this advantage and use GPU for computation:"
      ]
    },
    {
      "cell_type": "code",
      "execution_count": null,
      "metadata": {
        "id": "9S4xhO5N9J-d"
      },
      "outputs": [],
      "source": [
        "def get_default_device():\n",
        "    \"\"\"Pick GPU if available, else CPU\"\"\"\n",
        "    if torch.cuda.is_available():\n",
        "        return torch.device('cuda')\n",
        "    else:\n",
        "        return torch.device('cpu')\n",
        "\n",
        "def to_device(data, device):\n",
        "    \"\"\"Move tensor(s) to chosen device\"\"\"\n",
        "    if isinstance(data, (list,tuple)):\n",
        "        return [to_device(x, device) for x in data]\n",
        "    return data.to(device, non_blocking=True)\n",
        "\n",
        "class DeviceDataLoader():\n",
        "    \"\"\"Wrap a dataloader to move data to a device\"\"\"\n",
        "    def __init__(self, dl, device):\n",
        "        self.dl = dl\n",
        "        self.device = device\n",
        "\n",
        "    def __iter__(self):\n",
        "        \"\"\"Yield a batch of data after moving it to device\"\"\"\n",
        "        for b in self.dl:\n",
        "            yield to_device(b, self.device)\n",
        "\n",
        "    def __len__(self):\n",
        "        \"\"\"Number of batches\"\"\"\n",
        "        return len(self.dl)"
      ]
    },
    {
      "cell_type": "code",
      "execution_count": null,
      "metadata": {
        "id": "hzC3X8xV9J-e"
      },
      "outputs": [],
      "source": [
        "device = get_default_device()\n",
        "device"
      ]
    },
    {
      "cell_type": "code",
      "execution_count": null,
      "metadata": {
        "id": "6jJjI_QF9J-e"
      },
      "outputs": [],
      "source": [
        "train_dl = DeviceDataLoader(train_dl, device)\n",
        "val_dl = DeviceDataLoader(val_dl, device)\n",
        "to_device(model, device)"
      ]
    },
    {
      "cell_type": "markdown",
      "metadata": {
        "id": "HboaayOP9J-e"
      },
      "source": [
        "# Training the Model:"
      ]
    },
    {
      "cell_type": "markdown",
      "metadata": {
        "id": "sdPXJeMB9J-e"
      },
      "source": [
        "This is the function for fitting the model."
      ]
    },
    {
      "cell_type": "code",
      "execution_count": null,
      "metadata": {
        "id": "_xjEhKhM9J-e"
      },
      "outputs": [],
      "source": [
        "@torch.no_grad()\n",
        "def evaluate(model, val_loader):\n",
        "    model.eval()\n",
        "    outputs = [model.validation_step(batch) for batch in val_loader]\n",
        "    return model.validation_epoch_end(outputs)\n",
        "\n",
        "def fit(epochs, lr, model, train_loader, val_loader, opt_func=torch.optim.SGD):\n",
        "    history = []\n",
        "    optimizer = opt_func(model.parameters(), lr)\n",
        "    for epoch in range(epochs):\n",
        "        # Training Phase\n",
        "        model.train()\n",
        "        train_losses = []\n",
        "        for batch in train_loader:\n",
        "            loss = model.training_step(batch)\n",
        "            train_losses.append(loss)\n",
        "            loss.backward()\n",
        "            optimizer.step()\n",
        "            optimizer.zero_grad()\n",
        "        # Validation phase\n",
        "        result = evaluate(model, val_loader)\n",
        "        result['train_loss'] = torch.stack(train_losses).mean().item()\n",
        "        model.epoch_end(epoch, result)\n",
        "        history.append(result)\n",
        "    return history"
      ]
    },
    {
      "cell_type": "code",
      "execution_count": null,
      "metadata": {
        "id": "2MUsoCiQ9J-f"
      },
      "outputs": [],
      "source": [
        "model = to_device(ResNet(), device)"
      ]
    },
    {
      "cell_type": "markdown",
      "metadata": {
        "id": "noQvSPi59J-q"
      },
      "source": [
        "Let's start training the model:"
      ]
    },
    {
      "cell_type": "code",
      "execution_count": null,
      "metadata": {
        "id": "xp1PqDTV9J-q"
      },
      "outputs": [],
      "source": [
        "num_epochs = 10\n",
        "opt_func = torch.optim.Adam\n",
        "lr = 6e-5\n",
        "\n",
        "history = fit(num_epochs, lr, model, train_dl, val_dl, opt_func)"
      ]
    },
    {
      "cell_type": "code",
      "execution_count": null,
      "metadata": {
        "id": "k1ylV_0T9J-q"
      },
      "outputs": [],
      "source": [
        "def plot_accuracies(history):\n",
        "    accuracies = [x['val_acc'] for x in history]\n",
        "    plt.plot(accuracies, '-x')\n",
        "    plt.xlabel('epoch')\n",
        "    plt.ylabel('accuracy')\n",
        "    plt.title('Accuracy vs. No. of epochs')\n",
        "\n",
        "plot_accuracies(history)"
      ]
    },
    {
      "cell_type": "code",
      "execution_count": null,
      "metadata": {
        "id": "vJZIeeZ69J-q"
      },
      "outputs": [],
      "source": [
        "def plot_losses(history):\n",
        "    train_losses = [x.get('train_loss') for x in history]\n",
        "    val_losses = [x['val_loss'] for x in history]\n",
        "    plt.plot(train_losses, '-bx')\n",
        "    plt.plot(val_losses, '-rx')\n",
        "    plt.xlabel('epoch')\n",
        "    plt.ylabel('loss')\n",
        "    plt.legend(['Training', 'Validation'])\n",
        "    plt.title('Loss vs. No. of epochs');\n",
        "\n",
        "plot_losses(history)"
      ]
    },
    {
      "cell_type": "code",
      "source": [
        "def plot_val_loss(history):\n",
        "    val_loss = val_acc = [x['val_loss'] for x in history]\n",
        "    val_acc = [x['val_acc'] for x in history]\n",
        "    plt.plot(val_acc, '-bx')\n",
        "    plt.plot(val_loss, '-rx')\n",
        "    plt.xlabel('val_acc')\n",
        "    plt.ylabel('val_loss')\n",
        "    plt.legend(['Validation', 'Validation'])\n",
        "    plt.title('val_acc and val_loss');\n",
        "\n",
        "plot_val_loss(history)"
      ],
      "metadata": {
        "id": "2A4atE8ThgVv"
      },
      "execution_count": null,
      "outputs": []
    },
    {
      "cell_type": "code",
      "execution_count": null,
      "metadata": {
        "id": "DZy1_6tL9J-r"
      },
      "outputs": [],
      "source": [
        "evaluate(model, val_dl)"
      ]
    },
    {
      "cell_type": "markdown",
      "metadata": {
        "id": "NNDDYwK89J-r"
      },
      "source": [
        "# Visualizing Predictions:"
      ]
    },
    {
      "cell_type": "code",
      "source": [
        "device = torch.device(\"cuda\" if torch.cuda.is_available() else \"cpu\")\n",
        "model = model.to(device)\n",
        "model.eval()"
      ],
      "metadata": {
        "id": "6oGxhBJvJ_I9"
      },
      "execution_count": null,
      "outputs": []
    },
    {
      "cell_type": "code",
      "source": [
        "\n",
        "\n",
        "def predict_image(img, model):\n",
        "    # Convert to a batch of 1\n",
        "    xb = img.unsqueeze(0)\n",
        "    xb = xb.to(next(model.parameters()).device)\n",
        "    yb = model(xb)\n",
        "    _, preds = torch.max(yb, dim=1)\n",
        "\n",
        "    return preds[0].item()"
      ],
      "metadata": {
        "id": "QoAF1SFoAffp"
      },
      "execution_count": null,
      "outputs": []
    },
    {
      "cell_type": "code",
      "source": [
        "import smtplib\n",
        "from email.mime.text import MIMEText\n",
        "from email.mime.multipart import MIMEMultipart\n",
        "\n",
        "def send_email(sender_email, sender_password, mailing_list, subject, location, fire_type):\n",
        "    for receiver_email in mailing_list:\n",
        "        # Create a MIME message\n",
        "        msg = MIMEMultipart(\"alternative\")\n",
        "        msg[\"From\"] = sender_email\n",
        "        msg[\"To\"] = receiver_email\n",
        "        msg[\"Subject\"] = subject\n",
        "\n",
        "        html_content = f\"\"\"\n",
        "\n",
        "<html xmlns=\"http://www.w3.org/1999/xhtml\" xmlns:v=\"urn:schemas-microsoft-com:vml\" xmlns:o=\"urn:schemas-microsoft-com:office:office\">\n",
        "<head>\n",
        "<!--[if gte mso 9]>\n",
        "<xml>\n",
        "  <o:OfficeDocumentSettings>\n",
        "    <o:AllowPNG/>\n",
        "    <o:PixelsPerInch>96</o:PixelsPerInch>\n",
        "  </o:OfficeDocumentSettings>\n",
        "</xml>\n",
        "<![endif]-->\n",
        "  <meta http-equiv=\"Content-Type\" content=\"text/html; charset=UTF-8\">\n",
        "  <meta name=\"viewport\" content=\"width=device-width, initial-scale=1.0\">\n",
        "  <meta name=\"x-apple-disable-message-reformatting\">\n",
        "  <!--[if !mso]><!--><meta http-equiv=\"X-UA-Compatible\" content=\"IE=edge\"><!--<![endif]-->\n",
        "  <title></title>\n",
        "\n",
        "<!--[if !mso]><!--><link href=\"https://fonts.googleapis.com/css?family=Lato:400,700&display=swap\" rel=\"stylesheet\" type=\"text/css\"><!--<![endif]-->\n",
        "\n",
        "</head>\n",
        "\n",
        "<body class=\"clean-body u_body\" style=\"margin: 0;padding: 0;-webkit-text-size-adjust: 100%;background-color: #f9f9f9;color: #000000\">\n",
        "  <!--[if IE]><div class=\"ie-container\"><![endif]-->\n",
        "  <!--[if mso]><div class=\"mso-container\"><![endif]-->\n",
        "  <table id=\"u_body\" style=\"border-collapse: collapse;table-layout: fixed;border-spacing: 0;mso-table-lspace: 0pt;mso-table-rspace: 0pt;vertical-align: top;min-width: 320px;Margin: 0 auto;background-color: #f9f9f9;width:100%\" cellpadding=\"0\" cellspacing=\"0\">\n",
        "  <tbody>\n",
        "  <tr style=\"vertical-align: top\">\n",
        "    <td style=\"word-break: break-word;border-collapse: collapse !important;vertical-align: top\">\n",
        "    <!--[if (mso)|(IE)]><table width=\"100%\" cellpadding=\"0\" cellspacing=\"0\" border=\"0\"><tr><td align=\"center\" style=\"background-color: #f9f9f9;\"><![endif]-->\n",
        "\n",
        "\n",
        "<div class=\"u-row-container\" style=\"padding: 0px;background-color: transparent\">\n",
        "  <div class=\"u-row\" style=\"Margin: 0 auto;min-width: 320px;max-width: 600px;overflow-wrap: break-word;word-wrap: break-word;word-break: break-word;background-color: #161a39;\">\n",
        "    <div style=\"border-collapse: collapse;display: table;width: 100%;height: 100%;background-color: transparent;\">\n",
        "      <!--[if (mso)|(IE)]><table width=\"100%\" cellpadding=\"0\" cellspacing=\"0\" border=\"0\"><tr><td style=\"padding: 0px;background-color: transparent;\" align=\"center\"><table cellpadding=\"0\" cellspacing=\"0\" border=\"0\" style=\"width:600px;\"><tr style=\"background-color: #161a39;\"><![endif]-->\n",
        "\n",
        "<!--[if (mso)|(IE)]><td align=\"center\" width=\"600\" style=\"background-color: #e41e1e;width: 600px;padding: 0px;border-top: 0px solid transparent;border-left: 0px solid transparent;border-right: 0px solid transparent;border-bottom: 0px solid transparent;\" valign=\"top\"><![endif]-->\n",
        "<div class=\"u-col u-col-100\" style=\"max-width: 320px;min-width: 600px;display: table-cell;vertical-align: top;\">\n",
        "  <div style=\"background-color: #e41e1e;height: 100%;width: 100% !important;\">\n",
        "  <!--[if (!mso)&(!IE)]><!--><div style=\"box-sizing: border-box; height: 100%; padding: 0px;border-top: 0px solid transparent;border-left: 0px solid transparent;border-right: 0px solid transparent;border-bottom: 0px solid transparent;\"><!--<![endif]-->\n",
        "\n",
        "<table style=\"font-family:'Lato',sans-serif;\" role=\"presentation\" cellpadding=\"0\" cellspacing=\"0\" width=\"100%\" border=\"0\">\n",
        "  <tbody>\n",
        "    <tr>\n",
        "      <td style=\"overflow-wrap:break-word;word-break:break-word;padding:10px;font-family:'Lato',sans-serif;\" align=\"left\">\n",
        "\n",
        "<table width=\"100%\" cellpadding=\"0\" cellspacing=\"0\" border=\"0\">\n",
        "  <tr>\n",
        "    <td style=\"padding-right: 0px;padding-left: 0px;\" align=\"center\">\n",
        "\n",
        "      <img align=\"center\" border=\"0\" src=\"https://i.ibb.co/cTFmvJN/notifire.png\" alt=\"\" title=\"\" style=\"outline: none;text-decoration: none;-ms-interpolation-mode: bicubic;clear: both;display: inline-block !important;border: none;height: auto;float: none;width: 100%;max-width: 306px;\" width=\"306\"/>\n",
        "\n",
        "    </td>\n",
        "  </tr>\n",
        "</table>\n",
        "\n",
        "      </td>\n",
        "    </tr>\n",
        "  </tbody>\n",
        "</table>\n",
        "\n",
        "  <!--[if (!mso)&(!IE)]><!--></div><!--<![endif]-->\n",
        "  </div>\n",
        "</div>\n",
        "<!--[if (mso)|(IE)]></td><![endif]-->\n",
        "      <!--[if (mso)|(IE)]></tr></table></td></tr></table><![endif]-->\n",
        "    </div>\n",
        "  </div>\n",
        "</div>\n",
        "\n",
        "\n",
        "\n",
        "<div class=\"u-row-container\" style=\"padding: 0px;background-color: transparent\">\n",
        "  <div class=\"u-row\" style=\"Margin: 0 auto;min-width: 320px;max-width: 600px;overflow-wrap: break-word;word-wrap: break-word;word-break: break-word;background-color: transparent;\">\n",
        "    <div style=\"border-collapse: collapse;display: table;width: 100%;height: 100%;background-color: transparent;\">\n",
        "      <!--[if (mso)|(IE)]><table width=\"100%\" cellpadding=\"0\" cellspacing=\"0\" border=\"0\"><tr><td style=\"padding: 0px;background-color: transparent;\" align=\"center\"><table cellpadding=\"0\" cellspacing=\"0\" border=\"0\" style=\"width:600px;\"><tr style=\"background-color: transparent;\"><![endif]-->\n",
        "\n",
        "<!--[if (mso)|(IE)]><td align=\"center\" width=\"600\" style=\"background-color: #e41e1e;width: 600px;padding: 0px;border-top: 0px solid transparent;border-left: 0px solid transparent;border-right: 0px solid transparent;border-bottom: 0px solid transparent;border-radius: 0px;-webkit-border-radius: 0px; -moz-border-radius: 0px;\" valign=\"top\"><![endif]-->\n",
        "<div class=\"u-col u-col-100\" style=\"max-width: 320px;min-width: 600px;display: table-cell;vertical-align: top;\">\n",
        "  <div style=\"background-color: #e41e1e;height: 100%;width: 100% !important;border-radius: 0px;-webkit-border-radius: 0px; -moz-border-radius: 0px;\">\n",
        "  <!--[if (!mso)&(!IE)]><!--><div style=\"box-sizing: border-box; height: 100%; padding: 0px;border-top: 0px solid transparent;border-left: 0px solid transparent;border-right: 0px solid transparent;border-bottom: 0px solid transparent;border-radius: 0px;-webkit-border-radius: 0px; -moz-border-radius: 0px;\"><!--<![endif]-->\n",
        "\n",
        "<table style=\"font-family:'Lato',sans-serif;\" role=\"presentation\" cellpadding=\"0\" cellspacing=\"0\" width=\"100%\" border=\"0\">\n",
        "  <tbody>\n",
        "    <tr>\n",
        "      <td style=\"overflow-wrap:break-word;word-break:break-word;padding:10px;font-family:'Lato',sans-serif;\" align=\"left\">\n",
        "\n",
        "  <h1 style=\"margin: 0px; color: #ffffff; line-height: 140%; text-align: center; word-wrap: break-word; font-size: 22px; font-weight: 700;\"><strong>Yangın Bildirimi</strong></h1>\n",
        "\n",
        "      </td>\n",
        "    </tr>\n",
        "  </tbody>\n",
        "</table>\n",
        "\n",
        "  <!--[if (!mso)&(!IE)]><!--></div><!--<![endif]-->\n",
        "  </div>\n",
        "</div>\n",
        "<!--[if (mso)|(IE)]></td><![endif]-->\n",
        "      <!--[if (mso)|(IE)]></tr></table></td></tr></table><![endif]-->\n",
        "    </div>\n",
        "  </div>\n",
        "</div>\n",
        "\n",
        "\n",
        "\n",
        "<div class=\"u-row-container\" style=\"padding: 0px;background-color: transparent\">\n",
        "  <div class=\"u-row\" style=\"Margin: 0 auto;min-width: 320px;max-width: 600px;overflow-wrap: break-word;word-wrap: break-word;word-break: break-word;background-color: #ffffff;\">\n",
        "    <div style=\"border-collapse: collapse;display: table;width: 100%;height: 100%;background-color: transparent;\">\n",
        "      <!--[if (mso)|(IE)]><table width=\"100%\" cellpadding=\"0\" cellspacing=\"0\" border=\"0\"><tr><td style=\"padding: 0px;background-color: transparent;\" align=\"center\"><table cellpadding=\"0\" cellspacing=\"0\" border=\"0\" style=\"width:600px;\"><tr style=\"background-color: #ffffff;\"><![endif]-->\n",
        "\n",
        "<!--[if (mso)|(IE)]><td align=\"center\" width=\"596\" style=\"width: 596px;padding: 0px;border-top: 2px solid #CCC;border-left: 2px solid #CCC;border-right: 2px solid #CCC;border-bottom: 2px solid #CCC;\" valign=\"top\"><![endif]-->\n",
        "<div class=\"u-col u-col-100\" style=\"max-width: 320px;min-width: 600px;display: table-cell;vertical-align: top;\">\n",
        "  <div style=\"height: 100%;width: 100% !important;\">\n",
        "  <!--[if (!mso)&(!IE)]><!--><div style=\"box-sizing: border-box; height: 100%; padding: 0px;border-top: 2px solid #CCC;border-left: 2px solid #CCC;border-right: 2px solid #CCC;border-bottom: 2px solid #CCC;\"><!--<![endif]-->\n",
        "\n",
        "<table style=\"font-family:'Lato',sans-serif;\" role=\"presentation\" cellpadding=\"0\" cellspacing=\"0\" width=\"100%\" border=\"0\">\n",
        "  <tbody>\n",
        "    <tr>\n",
        "      <td style=\"overflow-wrap:break-word;word-break:break-word;padding:40px 40px 30px;font-family:'Lato',sans-serif;\" align=\"left\">\n",
        "\n",
        "  <div style=\"font-size: 14px; line-height: 140%; text-align: left; word-wrap: break-word;\">\n",
        "    <p style=\"font-size: 14px; line-height: 140%;\"><span style=\"font-size: 18px; line-height: 25.2px; color: #666666;\">Merhaba Değerli Kullanıcı,</span></p>\n",
        "<p style=\"font-size: 14px; line-height: 140%;\"> </p>\n",
        "<p style=\"font-size: 14px; line-height: 140%;\"><span style=\"font-size: 18px; line-height: 25.2px; color: #666666;\">{location} konumunda {fire_type} yangını olduğunu üzülerek bildiririz.</span></p>\n",
        "  </div>\n",
        "\n",
        "      </td>\n",
        "    </tr>\n",
        "  </tbody>\n",
        "</table>\n",
        "\n",
        "  <!--[if (!mso)&(!IE)]><!--></div><!--<![endif]-->\n",
        "  </div>\n",
        "</div>\n",
        "<!--[if (mso)|(IE)]></td><![endif]-->\n",
        "      <!--[if (mso)|(IE)]></tr></table></td></tr></table><![endif]-->\n",
        "    </div>\n",
        "  </div>\n",
        "</div>\n",
        "\n",
        "\n",
        "\n",
        "<div class=\"u-row-container\" style=\"padding: 0px;background-color: transparent\">\n",
        "  <div class=\"u-row\" style=\"Margin: 0 auto;min-width: 320px;max-width: 600px;overflow-wrap: break-word;word-wrap: break-word;word-break: break-word;background-color: transparent;\">\n",
        "    <div style=\"border-collapse: collapse;display: table;width: 100%;height: 100%;background-color: transparent;\">\n",
        "      <!--[if (mso)|(IE)]><table width=\"100%\" cellpadding=\"0\" cellspacing=\"0\" border=\"0\"><tr><td style=\"padding: 0px;background-color: transparent;\" align=\"center\"><table cellpadding=\"0\" cellspacing=\"0\" border=\"0\" style=\"width:600px;\"><tr style=\"background-color: transparent;\"><![endif]-->\n",
        "\n",
        "<!--[if (mso)|(IE)]><td align=\"center\" width=\"596\" style=\"width: 596px;padding: 0px;border-top: 2px solid #CCC;border-left: 2px solid #CCC;border-right: 2px solid #CCC;border-bottom: 2px solid #CCC;border-radius: 0px;-webkit-border-radius: 0px; -moz-border-radius: 0px;\" valign=\"top\"><![endif]-->\n",
        "<div class=\"u-col u-col-100\" style=\"max-width: 320px;min-width: 600px;display: table-cell;vertical-align: top;\">\n",
        "  <div style=\"height: 100%;width: 100% !important;border-radius: 0px;-webkit-border-radius: 0px; -moz-border-radius: 0px;\">\n",
        "  <!--[if (!mso)&(!IE)]><!--><div style=\"box-sizing: border-box; height: 100%; padding: 0px;border-top: 2px solid #CCC;border-left: 2px solid #CCC;border-right: 2px solid #CCC;border-bottom: 2px solid #CCC;border-radius: 0px;-webkit-border-radius: 0px; -moz-border-radius: 0px;\"><!--<![endif]-->\n",
        "\n",
        "  </div>\n",
        "</div>\n",
        "<!--[if (mso)|(IE)]></td><![endif]-->\n",
        "      <!--[if (mso)|(IE)]></tr></table></td></tr></table><![endif]-->\n",
        "    </div>\n",
        "  </div>\n",
        "</div>\n",
        "\n",
        "\n",
        "\n",
        "<div class=\"u-row-container\" style=\"padding: 0px;background-color: transparent\">\n",
        "  <div class=\"u-row\" style=\"Margin: 0 auto;min-width: 320px;max-width: 600px;overflow-wrap: break-word;word-wrap: break-word;word-break: break-word;background-color: #18163a;\">\n",
        "    <div style=\"border-collapse: collapse;display: table;width: 100%;height: 100%;background-color: transparent;\">\n",
        "      <!--[if (mso)|(IE)]><table width=\"100%\" cellpadding=\"0\" cellspacing=\"0\" border=\"0\"><tr><td style=\"padding: 0px;background-color: transparent;\" align=\"center\"><table cellpadding=\"0\" cellspacing=\"0\" border=\"0\" style=\"width:600px;\"><tr style=\"background-color: #18163a;\"><![endif]-->\n",
        "\n",
        "<!--[if (mso)|(IE)]><td align=\"center\" width=\"300\" style=\"background-color: #e41e1e;width: 300px;padding: 20px 20px 0px;border-top: 0px solid transparent;border-left: 0px solid transparent;border-right: 0px solid transparent;border-bottom: 0px solid transparent;\" valign=\"top\"><![endif]-->\n",
        "<div class=\"u-col u-col-50\" style=\"max-width: 320px;min-width: 300px;display: table-cell;vertical-align: top;\">\n",
        "  <div style=\"background-color: #e41e1e;height: 100%;width: 100% !important;\">\n",
        "  <!--[if (!mso)&(!IE)]><!--><div style=\"box-sizing: border-box; height: 100%; padding: 20px 20px 0px;border-top: 0px solid transparent;border-left: 0px solid transparent;border-right: 0px solid transparent;border-bottom: 0px solid transparent;\"><!--<![endif]-->\n",
        "\n",
        "<table style=\"font-family:'Lato',sans-serif;\" role=\"presentation\" cellpadding=\"0\" cellspacing=\"0\" width=\"100%\" border=\"0\">\n",
        "  <tbody>\n",
        "    <tr>\n",
        "      <td style=\"overflow-wrap:break-word;word-break:break-word;padding:10px;font-family:'Lato',sans-serif;\" align=\"left\">\n",
        "\n",
        "  <div style=\"font-size: 14px; line-height: 140%; text-align: left; word-wrap: break-word;\">\n",
        "    <p style=\"font-size: 14px; line-height: 140%;\"><span style=\"font-size: 14px; line-height: 19.6px; color: #ecf0f1;\">Gazi Üniversitesi, ANKARA</span></p>\n",
        "<p style=\"font-size: 14px; line-height: 140%;\"><span style=\"font-size: 14px; line-height: 19.6px; color: #ffffff;\">notifireapplication@gmail.com</span></p>\n",
        "  </div>\n",
        "\n",
        "      </td>\n",
        "    </tr>\n",
        "  </tbody>\n",
        "</table>\n",
        "\n",
        "  <!--[if (!mso)&(!IE)]><!--></div><!--<![endif]-->\n",
        "  </div>\n",
        "</div>\n",
        "<!--[if (mso)|(IE)]></td><![endif]-->\n",
        "<!--[if (mso)|(IE)]><td align=\"center\" width=\"300\" style=\"background-color: #e41e1e;width: 300px;padding: 0px 0px 0px 20px;border-top: 0px solid transparent;border-left: 0px solid transparent;border-right: 0px solid transparent;border-bottom: 0px solid transparent;\" valign=\"top\"><![endif]-->\n",
        "<div class=\"u-col u-col-50\" style=\"max-width: 320px;min-width: 300px;display: table-cell;vertical-align: top;\">\n",
        "  <div style=\"background-color: #e41e1e;height: 100%;width: 100% !important;\">\n",
        "  <!--[if (!mso)&(!IE)]><!--><div style=\"box-sizing: border-box; height: 100%; padding: 0px 0px 0px 20px;border-top: 0px solid transparent;border-left: 0px solid transparent;border-right: 0px solid transparent;border-bottom: 0px solid transparent;\"><!--<![endif]-->\n",
        "\n",
        "<table style=\"font-family:'Lato',sans-serif;\" role=\"presentation\" cellpadding=\"0\" cellspacing=\"0\" width=\"100%\" border=\"0\">\n",
        "  <tbody>\n",
        "    <tr>\n",
        "      <td style=\"overflow-wrap:break-word;word-break:break-word;padding:25px 10px 10px;font-family:'Lato',sans-serif;\" align=\"left\">\n",
        "\n",
        "<div align=\"left\">\n",
        "  <div style=\"display: table; max-width:187px;\">\n",
        "  <!--[if (mso)|(IE)]><table width=\"187\" cellpadding=\"0\" cellspacing=\"0\" border=\"0\"><tr><td style=\"border-collapse:collapse;\" align=\"left\"><table width=\"100%\" cellpadding=\"0\" cellspacing=\"0\" border=\"0\" style=\"border-collapse:collapse; mso-table-lspace: 0pt;mso-table-rspace: 0pt; width:187px;\"><tr><![endif]-->\n",
        "\n",
        "\n",
        "    <!--[if (mso)|(IE)]><td width=\"32\" style=\"width:32px; padding-right: 15px;\" valign=\"top\"><![endif]-->\n",
        "    <table align=\"left\" border=\"0\" cellspacing=\"0\" cellpadding=\"0\" width=\"32\" height=\"32\" style=\"width: 32px !important;height: 32px !important;display: inline-block;border-collapse: collapse;table-layout: fixed;border-spacing: 0;mso-table-lspace: 0pt;mso-table-rspace: 0pt;vertical-align: top;margin-right: 15px\">\n",
        "      <tbody><tr style=\"vertical-align: top\"><td align=\"left\" valign=\"middle\" style=\"word-break: break-word;border-collapse: collapse !important;vertical-align: top\">\n",
        "        <a href=\" \" title=\"Facebook\" target=\"_blank\">\n",
        "          <img src=\"https://gcdnb.pbrd.co/images/SH0DlheVSBgV.png?o=1\" alt=\"Facebook\" title=\"Facebook\" width=\"32\" style=\"outline: none;text-decoration: none;-ms-interpolation-mode: bicubic;clear: both;display: block !important;border: none;height: auto;float: none;max-width: 32px !important\">\n",
        "        </a>\n",
        "      </td></tr>\n",
        "    </tbody></table>\n",
        "    <!--[if (mso)|(IE)]></td><![endif]-->\n",
        "\n",
        "    <!--[if (mso)|(IE)]><td width=\"32\" style=\"width:32px; padding-right: 15px;\" valign=\"top\"><![endif]-->\n",
        "    <table align=\"left\" border=\"0\" cellspacing=\"0\" cellpadding=\"0\" width=\"32\" height=\"32\" style=\"width: 32px !important;height: 32px !important;display: inline-block;border-collapse: collapse;table-layout: fixed;border-spacing: 0;mso-table-lspace: 0pt;mso-table-rspace: 0pt;vertical-align: top;margin-right: 15px\">\n",
        "      <tbody><tr style=\"vertical-align: top\"><td align=\"left\" valign=\"middle\" style=\"word-break: break-word;border-collapse: collapse !important;vertical-align: top\">\n",
        "        <a href=\" \" title=\"Twitter\" target=\"_blank\">\n",
        "          <img src=\"https://gcdnb.pbrd.co/images/lROi5MJQv4DQ.png?o=1\" alt=\"Twitter\" title=\"Twitter\" width=\"32\" style=\"outline: none;text-decoration: none;-ms-interpolation-mode: bicubic;clear: both;display: block !important;border: none;height: auto;float: none;max-width: 32px !important\">\n",
        "        </a>\n",
        "      </td></tr>\n",
        "    </tbody></table>\n",
        "    <!--[if (mso)|(IE)]></td><![endif]-->\n",
        "\n",
        "    <!--[if (mso)|(IE)]><td width=\"32\" style=\"width:32px; padding-right: 15px;\" valign=\"top\"><![endif]-->\n",
        "    <table align=\"left\" border=\"0\" cellspacing=\"0\" cellpadding=\"0\" width=\"32\" height=\"32\" style=\"width: 32px !important;height: 32px !important;display: inline-block;border-collapse: collapse;table-layout: fixed;border-spacing: 0;mso-table-lspace: 0pt;mso-table-rspace: 0pt;vertical-align: top;margin-right: 15px\">\n",
        "      <tbody><tr style=\"vertical-align: top\"><td align=\"left\" valign=\"middle\" style=\"word-break: break-word;border-collapse: collapse !important;vertical-align: top\">\n",
        "        <a href=\" \" title=\"Instagram\" target=\"_blank\">\n",
        "          <img src=\"https://gcdnb.pbrd.co/images/i4MIBiRX4VaM.png?o=1\" alt=\"Instagram\" title=\"Instagram\" width=\"32\" style=\"outline: none;text-decoration: none;-ms-interpolation-mode: bicubic;clear: both;display: block !important;border: none;height: auto;float: none;max-width: 32px !important\">\n",
        "        </a>\n",
        "      </td></tr>\n",
        "    </tbody></table>\n",
        "    <!--[if (mso)|(IE)]></td><![endif]-->\n",
        "\n",
        "    <!--[if (mso)|(IE)]><td width=\"32\" style=\"width:32px; padding-right: 0px;\" valign=\"top\"><![endif]-->\n",
        "    <table align=\"left\" border=\"0\" cellspacing=\"0\" cellpadding=\"0\" width=\"32\" height=\"32\" style=\"width: 32px !important;height: 32px !important;display: inline-block;border-collapse: collapse;table-layout: fixed;border-spacing: 0;mso-table-lspace: 0pt;mso-table-rspace: 0pt;vertical-align: top;margin-right: 0px\">\n",
        "      <tbody><tr style=\"vertical-align: top\"><td align=\"left\" valign=\"middle\" style=\"word-break: break-word;border-collapse: collapse !important;vertical-align: top\">\n",
        "        <a href=\" \" title=\"LinkedIn\" target=\"_blank\">\n",
        "          <img src=\"https://gcdnb.pbrd.co/images/cDkwnFov5dd6.png?o=1\" alt=\"LinkedIn\" title=\"LinkedIn\" width=\"32\" style=\"outline: none;text-decoration: none;-ms-interpolation-mode: bicubic;clear: both;display: block !important;border: none;height: auto;float: none;max-width: 32px !important\">\n",
        "        </a>\n",
        "      </td></tr>\n",
        "    </tbody></table>\n",
        "    <!--[if (mso)|(IE)]></td><![endif]-->\n",
        "\n",
        "\n",
        "    <!--[if (mso)|(IE)]></tr></table></td></tr></table><![endif]-->\n",
        "  </div>\n",
        "</div>\n",
        "\n",
        "      </td>\n",
        "    </tr>\n",
        "  </tbody>\n",
        "</table>\n",
        "\n",
        "<table style=\"font-family:'Lato',sans-serif;\" role=\"presentation\" cellpadding=\"0\" cellspacing=\"0\" width=\"100%\" border=\"0\">\n",
        "  <tbody>\n",
        "    <tr>\n",
        "      <td style=\"overflow-wrap:break-word;word-break:break-word;padding:5px 10px 10px;font-family:'Lato',sans-serif;\" align=\"left\">\n",
        "\n",
        "  <div style=\"font-size: 14px; line-height: 140%; text-align: left; word-wrap: break-word;\">\n",
        "    <p style=\"line-height: 140%; font-size: 14px;\"><span style=\"font-size: 14px; line-height: 19.6px;\"><span style=\"color: #ecf0f1; font-size: 14px; line-height: 19.6px;\"><span style=\"line-height: 19.6px; font-size: 14px;\">NotiFire ©  Tüm hakları saklıdır</span></span></span></p>\n",
        "  </div>\n",
        "\n",
        "      </td>\n",
        "    </tr>\n",
        "  </tbody>\n",
        "</table>\n",
        "\n",
        "  <!--[if (!mso)&(!IE)]><!--></div><!--<![endif]-->\n",
        "  </div>\n",
        "</div>\n",
        "<!--[if (mso)|(IE)]></td><![endif]-->\n",
        "      <!--[if (mso)|(IE)]></tr></table></td></tr></table><![endif]-->\n",
        "    </div>\n",
        "  </div>\n",
        "</div>\n",
        "\n",
        "\n",
        "    <!--[if (mso)|(IE)]></td></tr></table><![endif]-->\n",
        "    </td>\n",
        "  </tr>\n",
        "  </tbody>\n",
        "  </table>\n",
        "  <!--[if mso]></div><![endif]-->\n",
        "  <!--[if IE]></div><![endif]-->\n",
        "</body>\n",
        "\n",
        "</html>\n",
        "        \"\"\"\n",
        "        msg.attach(MIMEText(html_content, \"html\"))\n",
        "\n",
        "        with smtplib.SMTP(\"smtp.gmail.com\", 587) as server:\n",
        "            server.starttls()\n",
        "            server.login(sender_email, sender_password)\n",
        "            server.send_message(msg)\n",
        "\n",
        "\n",
        "\n",
        "\n",
        "\n"
      ],
      "metadata": {
        "id": "d4LYrhLj_EnU"
      },
      "execution_count": null,
      "outputs": []
    },
    {
      "cell_type": "code",
      "source": [
        "import random\n",
        "def predict(img):\n",
        "\n",
        "    img_tensor = torch.from_numpy(img).permute(2, 0, 1).float().div(255)\n",
        "    img_tensor = img_tensor.to(next(model.parameters()).device)\n",
        "\n",
        "    predicted_class_index = predict_image(img_tensor, model)\n",
        "\n",
        "    # Define a list of class labels\n",
        "    class_labels = ['Bina Yangını Var!', 'Orman Yangını Var!', 'Yangın Yok', 'Araç Yangını Var!']\n",
        "\n",
        "    predicted_class_label = class_labels[predicted_class_index]\n",
        "\n",
        "    fire_type = predicted_class_label.split()[0].lower()\n",
        "    cities =  [\"Adana\", \"Adıyaman\", \"Afyonkarahisar\", \"Ağrı\", \"Amasya\", \"Ankara\", \"Antalya\", \"Artvin\", \"Aydın\", \"Balıkesir\", \"Bilecik\", \"Bingöl\", \"Bitlis\", \"Bolu\", \"Burdur\", \"Bursa\", \"Çanakkale\", \"Çankırı\", \"Çorum\", \"Denizli\", \"Diyarbakır\", \"Edirne\", \"Elazığ\", \"Erzincan\", \"Erzurum\", \"Eskişehir\", \"Gaziantep\", \"Giresun\", \"Gümüşhane\", \"Hakkari\", \"Hatay\", \"Isparta\", \"Mersin\", \"İstanbul\", \"İzmir\", \"Kars\", \"Kastamonu\", \"Kayseri\", \"Kırklareli\", \"Kırşehir\", \"Kocaeli\", \"Konya\", \"Kütahya\", \"Malatya\", \"Manisa\", \"Kahramanmaraş\", \"Mardin\", \"Muğla\", \"Muş\", \"Nevşehir\", \"Niğde\", \"Ordu\", \"Rize\", \"Sakarya\", \"Samsun\", \"Siirt\", \"Sinop\", \"Sivas\", \"Tekirdağ\", \"Tokat\", \"Trabzon\", \"Tunceli\", \"Şanlıurfa\", \"Uşak\", \"Van\", \"Yozgat\", \"Zonguldak\", \"Aksaray\", \"Bayburt\", \"Karaman\", \"Kırıkkale\", \"Batman\", \"Şırnak\", \"Bartın\", \"Ardahan\", \"Iğdır\", \"Yalova\", \"Karabük\", \"Kilis\", \"Osmaniye\", \"Düzce\"]\n",
        "    location = random.choice(cities)\n",
        "\n",
        "    if predicted_class_label != \"Yangın Yok\":\n",
        "        sender_email = 'notifireapplication@gmail.com'\n",
        "        sender_password = 'aketakkgzudjvmag'\n",
        "        mailing_list = ['mustafaoztrk99@gmail.com','kivanc.adiguzell@gmail.com','eozpinar00@gmail.com','mustafaberberler01@gmail.com','arc.fatmabetl@gmail.com']\n",
        "        subject = 'Yangın Bildirimi'\n",
        "        send_email(sender_email, sender_password, mailing_list, subject, location, fire_type)\n",
        "\n",
        "        result= str(location) + \" konumunda \" + str(predicted_class_label).lower()\n",
        "\n",
        "    else:\n",
        "       result = str(location) + \" konumunda \" + str(predicted_class_label).lower()\n",
        "\n",
        "    return result"
      ],
      "metadata": {
        "id": "7I3l9oHDRU9Y"
      },
      "execution_count": null,
      "outputs": []
    },
    {
      "cell_type": "markdown",
      "metadata": {
        "id": "RNr3BCWg9J-r"
      },
      "source": [
        "Let us see the model's predictions on the test dataset:"
      ]
    },
    {
      "cell_type": "code",
      "execution_count": null,
      "metadata": {
        "id": "IdCHKJtx9J-r"
      },
      "outputs": [],
      "source": [
        "img, label = test_ds[10]\n",
        "plt.imshow(img.permute(1, 2, 0))\n",
        "labels = ['Bina Yangını', 'Orman Yangını', 'Yangın Yok', 'Araç Yangını']\n",
        "print('Etiket:', dataset.classes[label], ', Tahmin:', labels[predict_image(img, model)])\n"
      ]
    },
    {
      "cell_type": "code",
      "execution_count": null,
      "metadata": {
        "id": "EdDIcetm9J-r"
      },
      "outputs": [],
      "source": [
        "img, label = test_ds[23]\n",
        "labels = ['Bina Yangını', 'Orman Yangını', 'Yangın Yok', 'Araç Yangını']\n",
        "print('Etiket:', dataset.classes[label], ', Tahmin:', labels[predict_image(img, model)])"
      ]
    },
    {
      "cell_type": "code",
      "execution_count": null,
      "metadata": {
        "id": "Kv_0mz-E9J-s"
      },
      "outputs": [],
      "source": [
        "img, label = test_ds[11]\n",
        "labels = ['Bina Yangını', 'Orman Yangını', 'Yangın Yok', 'Araç Yangını']\n",
        "print('Etiket:', dataset.classes[label], ', Tahmin:', labels[predict_image(img, model)])"
      ]
    },
    {
      "cell_type": "markdown",
      "metadata": {
        "id": "AxDqHRON9J-s"
      },
      "source": [
        "# Predicting External Images:"
      ]
    },
    {
      "cell_type": "code",
      "execution_count": null,
      "metadata": {
        "id": "K8hJgKpi9J-t"
      },
      "outputs": [],
      "source": [
        "loaded_model = model"
      ]
    },
    {
      "cell_type": "markdown",
      "metadata": {
        "id": "APJq970f9J-t"
      },
      "source": [
        "This function takes the image's name and prints the predictions:"
      ]
    },
    {
      "cell_type": "code",
      "execution_count": null,
      "metadata": {
        "id": "D7wOGwDk9J-t"
      },
      "outputs": [],
      "source": [
        "from PIL import Image\n",
        "from pathlib import Path\n",
        "\n",
        "def predict_external_image(image_name):\n",
        "    image = Image.open(Path('/content/drive/My Drive/veriseti/' + image_name))\n",
        "\n",
        "    example_image = transformations(image)\n",
        "    plt.imshow(example_image.permute(1, 2, 0))\n",
        "    labels = ['Bina Yangını', 'Orman Yangını', 'Yangın Yok', 'Araç Yangını']\n",
        "    print(\"Model tahmini: \", labels[predict_image(example_image,loaded_model)])"
      ]
    },
    {
      "cell_type": "code",
      "execution_count": null,
      "metadata": {
        "id": "sSfXlJH09J-t"
      },
      "outputs": [],
      "source": [
        "predict_external_image('yangin1.png')"
      ]
    },
    {
      "cell_type": "code",
      "execution_count": null,
      "metadata": {
        "id": "_v4FDIv69J-u"
      },
      "outputs": [],
      "source": [
        "predict_external_image('yangin2.jpg')"
      ]
    },
    {
      "cell_type": "code",
      "execution_count": null,
      "metadata": {
        "id": "mQODkDH89J-u"
      },
      "outputs": [],
      "source": [
        "predict_external_image('yangin3.jpg')"
      ]
    },
    {
      "cell_type": "code",
      "execution_count": null,
      "metadata": {
        "id": "bL4ZFhh79J-u"
      },
      "outputs": [],
      "source": [
        "predict_external_image('yangin4.jpg')"
      ]
    },
    {
      "cell_type": "code",
      "execution_count": null,
      "metadata": {
        "id": "AmknfbIr9J-v"
      },
      "outputs": [],
      "source": [
        "predict_external_image('yangin5.jpg')"
      ]
    },
    {
      "cell_type": "code",
      "execution_count": null,
      "metadata": {
        "id": "FXgoCbGw9J-v"
      },
      "outputs": [],
      "source": [
        "predict_external_image('yangin6.jpg')"
      ]
    },
    {
      "cell_type": "code",
      "execution_count": null,
      "metadata": {
        "id": "YE5RL6tR9J-v"
      },
      "outputs": [],
      "source": [
        "predict_external_image('yangin7.jpg')"
      ]
    },
    {
      "cell_type": "code",
      "execution_count": null,
      "metadata": {
        "id": "8B4dQ2h29J-v"
      },
      "outputs": [],
      "source": [
        "predict_external_image('yangin8.png')"
      ]
    },
    {
      "cell_type": "code",
      "execution_count": null,
      "metadata": {
        "id": "0tgen3r99J-w"
      },
      "outputs": [],
      "source": [
        "predict_external_image('yangin9.jpg')"
      ]
    },
    {
      "cell_type": "code",
      "execution_count": null,
      "metadata": {
        "id": "tJoplLt89J-w"
      },
      "outputs": [],
      "source": [
        "predict_external_image('yangin10.png')"
      ]
    },
    {
      "cell_type": "code",
      "execution_count": null,
      "metadata": {
        "id": "AkcsFGPJ9J-w"
      },
      "outputs": [],
      "source": [
        "predict_external_image('yangin11.png')"
      ]
    },
    {
      "cell_type": "code",
      "execution_count": null,
      "metadata": {
        "id": "i2UPpzIp9J-w"
      },
      "outputs": [],
      "source": [
        "predict_external_image('yangin12.png')"
      ]
    },
    {
      "cell_type": "code",
      "execution_count": null,
      "metadata": {
        "id": "njbvoUl89J-x"
      },
      "outputs": [],
      "source": [
        "predict_external_image('yangin13.png')"
      ]
    },
    {
      "cell_type": "code",
      "execution_count": null,
      "metadata": {
        "id": "REqn2Kf8DLN0"
      },
      "outputs": [],
      "source": [
        "predict_external_image('13213.jpg')"
      ]
    },
    {
      "cell_type": "code",
      "execution_count": null,
      "metadata": {
        "id": "qXzefYL1DLVE"
      },
      "outputs": [],
      "source": [
        "!pip install gradio #ilk çalıştırmadan sonra yorum satırına alınacak"
      ]
    },
    {
      "cell_type": "code",
      "execution_count": null,
      "metadata": {
        "id": "YcVXlK-EL-rn"
      },
      "outputs": [],
      "source": [
        "import gradio as gr\n",
        "\n",
        "with gr.Blocks(theme=gr.themes.Soft()) as notifire:\n",
        "  with gr.Row():\n",
        "        im = gr.Image(label=\"FOTOĞRAF\")\n",
        "        res = gr.Label(label=\"SONUÇ\")\n",
        "  btn = gr.Button(value=\"KATEGORİZE ET\",variant=\"primary\")\n",
        "  btn.click(predict, inputs=[im],outputs=[res])\n",
        "\n",
        "  gr.Examples(\n",
        "    examples=[os.path.join(os.path.dirname('/content/drive/My Drive/veriseti/'), \"13213.jpg\"),\n",
        "              os.path.join(os.path.dirname('/content/drive/My Drive/test/'), \"2853723335_44fdafb8fa_o.png\"),\n",
        "              os.path.join(os.path.dirname('/content/drive/My Drive/test/'), \"fire.326.png\"),\n",
        "              os.path.join(os.path.dirname('/content/drive/My Drive/test/'), \"0bfdc7cd49e09851cc7063ffaf20bf3a.png\"),\n",
        "              os.path.join(os.path.dirname('/content/drive/My Drive/test/'), \"4edcf7037ce106b5bc300f99ef671a91_936_425.png\")],\n",
        "    inputs=im,\n",
        "    outputs=res,\n",
        "    fn=predict,\n",
        "\n",
        ")\n",
        "\n",
        "  notifire.launch(share=True)"
      ]
    }
  ],
  "metadata": {
    "accelerator": "GPU",
    "colab": {
      "provenance": [],
      "gpuType": "T4"
    },
    "kernelspec": {
      "display_name": "Python 3",
      "name": "python3"
    },
    "language_info": {
      "codemirror_mode": {
        "name": "ipython",
        "version": 3
      },
      "file_extension": ".py",
      "mimetype": "text/x-python",
      "name": "python",
      "nbconvert_exporter": "python",
      "pygments_lexer": "ipython3",
      "version": "3.11.0"
    }
  },
  "nbformat": 4,
  "nbformat_minor": 0
}